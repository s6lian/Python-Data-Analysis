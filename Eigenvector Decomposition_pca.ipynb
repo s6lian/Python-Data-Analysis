{
 "cells": [
  {
   "cell_type": "markdown",
   "metadata": {},
   "source": [
    "<h1><center> Homework 3 Eigenvector Decomposition <center></h1>\n",
    "<h2><center> Shuting Lian 20718506 <center> </h2>\n",
    "    <p>Using the crime dataset, I converted it to covariance matrix firstly and then calculated the eigenvalues and eigenvaectors. And I sorted the top 20 eigenvalues as below. As we can see, the variance in the new space is 0.99>0.95 so I think it is a clear point to cut off dimensions.</p>"
   ]
  },
  {
   "cell_type": "code",
   "execution_count": 110,
   "metadata": {},
   "outputs": [
    {
     "name": "stdout",
     "output_type": "stream",
     "text": [
      "        eigValue\n",
      "0   6.202039e+08\n",
      "1   3.561937e+04\n",
      "2   1.329899e+02\n",
      "3   8.259041e+00\n",
      "4   1.418036e+00\n",
      "5   7.065751e-01\n",
      "6   4.562297e-01\n",
      "7   2.226778e-01\n",
      "8   1.841396e-01\n",
      "9   1.619404e-01\n",
      "10  1.036137e-01\n",
      "11  8.690615e-02\n",
      "12  6.360002e-02\n",
      "13  5.690914e-02\n",
      "14  5.029247e-02\n",
      "15  4.833284e-02\n",
      "16  4.565249e-02\n",
      "17  4.231692e-02\n",
      "18  3.705803e-02\n",
      "19  3.495491e-02\n",
      "The variance in the new space is: 0.9999999993350522\n"
     ]
    },
    {
     "name": "stderr",
     "output_type": "stream",
     "text": [
      "/Library/Frameworks/Python.framework/Versions/3.6/lib/python3.6/site-packages/ipykernel_launcher.py:15: ComplexWarning: Casting complex values to real discards the imaginary part\n",
      "  from ipykernel import kernelapp as app\n",
      "/Library/Frameworks/Python.framework/Versions/3.6/lib/python3.6/site-packages/pandas/core/series.py:110: ComplexWarning: Casting complex values to real discards the imaginary part\n",
      "  return converter(self.iloc[0])\n"
     ]
    },
    {
     "data": {
      "text/plain": [
       "array([[ -1.38698529e+04+0.j,  -1.10053091e+03+0.j,  -1.32867039e+02+0.j,\n",
       "        ...,   7.46474650e-05+0.j,   1.02522526e-04+0.j,\n",
       "         -7.85392872e-05+0.j],\n",
       "       [  3.94040309e+05+0.j,  -3.56022805e+04+0.j,   4.10965235e+00+0.j,\n",
       "        ...,   7.40672735e-06+0.j,  -9.39419397e-07+0.j,\n",
       "         -2.60390257e-06+0.j],\n",
       "       [  6.20203810e+08+0.j,   2.25948975e+01+0.j,  -5.58400541e-03+0.j,\n",
       "        ...,  -4.40489885e-08+0.j,  -4.67529162e-08+0.j,\n",
       "         -1.56531570e-08+0.j],\n",
       "       ..., \n",
       "       [  3.08421758e+02+0.j,  -6.60424902e+00+0.j,  -2.44713696e-02+0.j,\n",
       "        ...,   8.13229449e-03+0.j,  -1.56468649e-02+0.j,\n",
       "          1.16618539e-03+0.j],\n",
       "       [ -7.64561185e+01+0.j,   2.50945745e+00+0.j,   1.12610039e-01+0.j,\n",
       "        ...,   4.19171502e-03+0.j,   5.72523004e-03+0.j,\n",
       "         -2.06591938e-03+0.j],\n",
       "       [ -1.16856244e+03+0.j,  -1.68259067e+00+0.j,   1.88770896e-01+0.j,\n",
       "        ...,  -1.28050379e-03+0.j,   1.37645364e-03+0.j,\n",
       "          3.63849854e-04+0.j]])"
      ]
     },
     "execution_count": 110,
     "metadata": {},
     "output_type": "execute_result"
    }
   ],
   "source": [
    "import pandas as pd\n",
    "import numpy as np\n",
    "import scipy\n",
    "\n",
    "df = pd.read_csv('communities.data', header=None)\n",
    "df = df.replace(\"\\?\",np.nan, regex=True)\n",
    "df = df.dropna()\n",
    "df = df.drop([3],axis=1)\n",
    "df = df.apply(pd.to_numeric)\n",
    "\n",
    "m1 = df.as_matrix()\n",
    "covMat=np.cov(m1,rowvar=0) \n",
    "eigVals,eigVects=scipy.linalg.eig(np.mat(covMat))\n",
    "sorted_eigVals = sorted(eigVals,reverse=True)\n",
    "sorted_eigVals=list(map(float, sorted_eigVals))\n",
    "# print(sorted_eigVals[0:21])\n",
    "eigV_df = pd.DataFrame(sorted_eigVals[0:20],columns=['eigValue'])\n",
    "print(eigV_df)\n",
    "\n",
    "variance = eigV_df.sum()/eigVals.sum()\n",
    "rs = float(variance)\n",
    "print(\"The variance in the new space is:\",rs)\n",
    "# eigValIndice=np.argsort(eigVals)  \n",
    "\n",
    "# n_eigValIndice=eigValIndice[:-21:-1]    \n",
    "\n",
    "# n_eigVect=eigVects[:,n_eigValIndice] \n",
    "# rs1 = np.dot(covMat,n_eigVect)\n",
    "# rs1\n"
   ]
  },
  {
   "cell_type": "code",
   "execution_count": null,
   "metadata": {},
   "outputs": [],
   "source": []
  }
 ],
 "metadata": {
  "kernelspec": {
   "display_name": "Python 3",
   "language": "python",
   "name": "python3"
  },
  "language_info": {
   "codemirror_mode": {
    "name": "ipython",
    "version": 3
   },
   "file_extension": ".py",
   "mimetype": "text/x-python",
   "name": "python",
   "nbconvert_exporter": "python",
   "pygments_lexer": "ipython3",
   "version": "3.6.3"
  }
 },
 "nbformat": 4,
 "nbformat_minor": 2
}
